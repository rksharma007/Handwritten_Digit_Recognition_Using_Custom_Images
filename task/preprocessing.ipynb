{
 "cells": [
  {
   "cell_type": "code",
   "execution_count": 33,
   "id": "9fbab0ef-4855-4755-91e9-939bd57598d5",
   "metadata": {},
   "outputs": [],
   "source": [
    "import numpy as np\n",
    "import cv2\n",
    "import os\n",
    "import glob\n",
    "from PIL import Image\n",
    "import math\n",
    "from scipy import ndimage"
   ]
  },
  {
   "cell_type": "code",
   "execution_count": 34,
   "id": "9f3051c2-7868-4186-bd17-22e8f3e789b5",
   "metadata": {},
   "outputs": [],
   "source": [
    "images = np.zeros((400,784))\n",
    "# and the correct values\n",
    "correct_vals = np.zeros((400,10))"
   ]
  },
  {
   "cell_type": "code",
   "execution_count": 41,
   "id": "3d23e5b1-c9ae-4f32-b61a-0b33a3faf77c",
   "metadata": {},
   "outputs": [],
   "source": [
    "#i = 0\n",
    "path = \"C:\\\\Users\\\\theycallmeBOT\\\\Desktop\\\\UAS_2\\\\try0\\\\train_photos\\\\processed_digits_samples\\\\\"\n",
    "\n",
    "for filename in glob.glob(\"C:\\\\Users\\\\theycallmeBOT\\\\Desktop\\\\UAS_2\\\\try0\\\\train_photos\\\\cropped_digits_samples\\\\*.png\"):\n",
    "    # read the image\n",
    "    gray = cv2.imread(filename, cv2.IMREAD_GRAYSCALE)\n",
    "#negative_resize\n",
    "    gray = cv2.resize(255-gray, (28, 28))\n",
    "    fil =os.path.basename(filename)\n",
    "    #print(fil)\n",
    "    name = os.path.splitext(fil)[0]\n",
    "    #print(name)\n",
    "    filname = os.path.splitext(fil)[0]\n",
    "    flatten = gray.flatten() / 255.0\n",
    "    (thresh, gray) = cv2.threshold(gray, 128, 255, cv2.THRESH_BINARY | cv2.THRESH_OTSU)\n",
    "    #crop_to_bounding_box\n",
    "    while np.sum(gray[0]) == 0:\n",
    "        gray = gray[1:]\n",
    "\n",
    "    while np.sum(gray[:,0]) == 0:\n",
    "        gray = np.delete(gray,0,1)\n",
    "\n",
    "    while np.sum(gray[-1]) == 0:\n",
    "        gray = gray[:-1]\n",
    "\n",
    "    while np.sum(gray[:,-1]) == 0:\n",
    "        gray = np.delete(gray,-1,1)\n",
    "\n",
    "    rows,cols = gray.shape\n",
    "    \n",
    "    if rows > cols:\n",
    "        factor = 20.0/rows\n",
    "        rows = 20\n",
    "        cols = int(round(cols*factor))\n",
    "        gray = cv2.resize(gray, (cols,rows))\n",
    "    else:\n",
    "        factor = 20.0/cols\n",
    "        cols = 20\n",
    "        rows = int(round(rows*factor))\n",
    "        gray = cv2.resize(gray, (cols, rows))\n",
    "    #center\n",
    "    colsPadding = (int(math.ceil((28-cols)/2.0)),int(math.floor((28-cols)/2.0)))\n",
    "    rowsPadding = (int(math.ceil((28-rows)/2.0)),int(math.floor((28-rows)/2.0)))\n",
    "    gray = np.lib.pad(gray,(rowsPadding,colsPadding),'constant')\n",
    "    \n",
    "    cv2.imwrite(path+filname+'.png', gray)\n"
   ]
  },
  {
   "cell_type": "code",
   "execution_count": 21,
   "id": "59a22df5-302b-496f-aea5-81b4cffbe301",
   "metadata": {},
   "outputs": [],
   "source": []
  },
  {
   "cell_type": "code",
   "execution_count": null,
   "id": "71a9b260-7797-4829-b309-12e07437eace",
   "metadata": {},
   "outputs": [],
   "source": []
  }
 ],
 "metadata": {
  "kernelspec": {
   "display_name": "Python 3 (ipykernel)",
   "language": "python",
   "name": "python3"
  },
  "language_info": {
   "codemirror_mode": {
    "name": "ipython",
    "version": 3
   },
   "file_extension": ".py",
   "mimetype": "text/x-python",
   "name": "python",
   "nbconvert_exporter": "python",
   "pygments_lexer": "ipython3",
   "version": "3.9.6"
  }
 },
 "nbformat": 4,
 "nbformat_minor": 5
}
