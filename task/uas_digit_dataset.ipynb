{
 "cells": [
  {
   "cell_type": "code",
   "execution_count": 269,
   "id": "ce080b2a-d508-473f-93f8-e34c96622194",
   "metadata": {
    "tags": []
   },
   "outputs": [],
   "source": [
    "#imports\n",
    "import os\n",
    "import numpy as np\n",
    "import tensorflow as tf\n",
    "from PIL import Image, ImageOps\n",
    "import matplotlib.pyplot as plt\n",
    "from keras.utils import np_utils\n",
    "from sklearn.utils import shuffle\n",
    "from keras.models import Sequential\n",
    "from sklearn.model_selection import train_test_split\n",
    "from tensorflow.keras.optimizers import SGD\n",
    "from keras.layers.core import Activation, Dense, Dropout, Flatten\n",
    "from keras.layers.convolutional import Convolution2D, MaxPooling2D\n",
    "from keras.layers import Conv2D, Dense, Dropout, Flatten, MaxPooling2D"
   ]
  },
  {
   "cell_type": "code",
   "execution_count": 270,
   "id": "c70a8786-146c-4bf6-a0b2-012914ae6607",
   "metadata": {},
   "outputs": [],
   "source": [
    "#defining path for train & test data\n",
    "PATH = os.getcwd()\n",
    "data_path = PATH + '/data'\n",
    "data_dir_list = os.listdir(data_path)"
   ]
  },
  {
   "cell_type": "code",
   "execution_count": 271,
   "id": "b912b94c-8ef4-47b6-80b6-e0fcb6be290a",
   "metadata": {},
   "outputs": [
    {
     "name": "stdout",
     "output_type": "stream",
     "text": [
      "['0', '1', '2', '3', '4', '5', '6', '7', '8', '9']\n"
     ]
    }
   ],
   "source": [
    "#defining image size, channels and number of classes\n",
    "\n",
    "img_rows=28\n",
    "img_cols=28\n",
    "num_channel=1\n",
    "num_epoch=20\n",
    "num_classes = 10\n",
    "print(data_dir_list)   #displaying list in data directory"
   ]
  },
  {
   "cell_type": "code",
   "execution_count": 272,
   "id": "2aa9a660-3c00-43bb-9bd7-26e9dee4b37a",
   "metadata": {},
   "outputs": [
    {
     "name": "stdout",
     "output_type": "stream",
     "text": [
      "Loaded the images of dataset-0\n",
      "\n",
      "Loaded the images of dataset-1\n",
      "\n",
      "Loaded the images of dataset-2\n",
      "\n",
      "Loaded the images of dataset-3\n",
      "\n",
      "Loaded the images of dataset-4\n",
      "\n",
      "Loaded the images of dataset-5\n",
      "\n",
      "Loaded the images of dataset-6\n",
      "\n",
      "Loaded the images of dataset-7\n",
      "\n",
      "Loaded the images of dataset-8\n",
      "\n",
      "Loaded the images of dataset-9\n",
      "\n",
      "(400, 28, 28)\n",
      "(400, 1, 28, 28)\n",
      "(400, 28, 28, 1)\n"
     ]
    }
   ],
   "source": [
    "#some preprocessing of images\n",
    "img_data_list=[]\n",
    "\n",
    "for dataset in data_dir_list:\n",
    "\timg_list=os.listdir(data_path+'/'+ dataset)\n",
    "\tprint ('Loaded the images of dataset-'+'{}\\n'.format(dataset))\n",
    "\tfor img in img_list:\n",
    "\t\tinput_img=cv2.imread(data_path + '/'+ dataset + '/'+ img )\n",
    "\t\tinput_img=cv2.cvtColor(input_img, cv2.COLOR_BGR2GRAY)\n",
    "\t\tinput_img_resize=cv2.resize(input_img,(28,28))\n",
    "\t\timg_data_list.append(input_img_resize)\n",
    "\n",
    "#converting images into numpy array \n",
    "img_data = np.array(img_data_list)\n",
    "img_data = img_data.astype('float32')\n",
    "img_data /= 255\n",
    "print (img_data.shape)\n",
    "img_data= np.expand_dims(img_data, axis=1)\n",
    "print (img_data.shape)\n",
    "img_data=np.rollaxis(img_data,3,1)\n",
    "img_data=np.rollaxis(img_data,3,1)\n",
    "print (img_data.shape)"
   ]
  },
  {
   "cell_type": "code",
   "execution_count": 273,
   "id": "ff6ba362-1f68-4039-b050-46a0305da906",
   "metadata": {},
   "outputs": [
    {
     "name": "stdout",
     "output_type": "stream",
     "text": [
      "(28, 28, 1)\n",
      "(320, 28, 28, 1)\n",
      "(320, 10)\n",
      "(80, 28, 28, 1)\n",
      "(80, 10)\n"
     ]
    }
   ],
   "source": [
    "#defining number of samples from shape of image data\n",
    "num_of_samples = img_data.shape[0]\n",
    "#creating labels for y_train and y_test\n",
    "labels = np.ones((num_of_samples,),dtype='int64')\n",
    "\n",
    "labels[0:40]=0\n",
    "labels[40:80]=1\n",
    "labels[80:120]=2\n",
    "labels[120:160]=3\n",
    "labels[160:200]=4\n",
    "labels[200:240]=5\n",
    "labels[240:280]=6\n",
    "labels[280:320]=7\n",
    "labels[320:360]=8\n",
    "labels[360:]=9\n",
    "\n",
    "names = ['0','1','2','3','4','5','6','7','8','9']\n",
    "\n",
    "Y = np_utils.to_categorical(labels, num_classes)\n",
    "x,y = shuffle(img_data,Y, random_state=2)\n",
    "X_train, X_test, y_train, y_test = train_test_split(x, y, test_size=0.2, random_state=2)\n",
    "\n",
    "input_shape=img_data[0].shape\t\n",
    "print(input_shape)\n",
    "print(X_train.shape)\n",
    "print(y_train.shape)\n",
    "print(X_test.shape)\n",
    "print(y_test.shape)"
   ]
  },
  {
   "cell_type": "code",
   "execution_count": 274,
   "id": "c747daee-dee5-42e2-bc61-612dbe6540be",
   "metadata": {},
   "outputs": [],
   "source": [
    "input_shape = (28,28,1)\n",
    "\n",
    "#creating model\n",
    "model = Sequential()\n",
    "model.add(Conv2D(32, kernel_size=(3, 3),activation='relu', kernel_initializer='he_uniform', input_shape=input_shape))\n",
    "model.add(Conv2D(64, (3, 3), activation='relu'))\n",
    "model.add(MaxPooling2D(pool_size=(2, 2)))\n",
    "model.add(Dropout(0.5))\n",
    "model.add(Flatten())\n",
    "model.add(Dense(128, activation='relu', kernel_initializer='he_uniform'))\n",
    "model.add(Dropout(0.5))\n",
    "model.add(Dense(num_classes, activation='softmax'))"
   ]
  },
  {
   "cell_type": "code",
   "execution_count": 275,
   "id": "27bb1b00-05c1-4009-a396-dacd35343151",
   "metadata": {},
   "outputs": [],
   "source": [
    "#model compilatiion\n",
    "model.compile(loss=tf.keras.losses.categorical_crossentropy,optimizer=tf.keras.optimizers.SGD(learning_rate=0.01, momentum=0.9),metrics=['accuracy'])"
   ]
  },
  {
   "cell_type": "code",
   "execution_count": 276,
   "id": "b028c3f4-c295-4a35-8418-a3b8601b97e1",
   "metadata": {},
   "outputs": [
    {
     "name": "stdout",
     "output_type": "stream",
     "text": [
      "Model: \"sequential_8\"\n",
      "_________________________________________________________________\n",
      "Layer (type)                 Output Shape              Param #   \n",
      "=================================================================\n",
      "conv2d_16 (Conv2D)           (None, 26, 26, 32)        320       \n",
      "_________________________________________________________________\n",
      "conv2d_17 (Conv2D)           (None, 24, 24, 64)        18496     \n",
      "_________________________________________________________________\n",
      "max_pooling2d_8 (MaxPooling2 (None, 12, 12, 64)        0         \n",
      "_________________________________________________________________\n",
      "dropout_16 (Dropout)         (None, 12, 12, 64)        0         \n",
      "_________________________________________________________________\n",
      "flatten_8 (Flatten)          (None, 9216)              0         \n",
      "_________________________________________________________________\n",
      "dense_14 (Dense)             (None, 128)               1179776   \n",
      "_________________________________________________________________\n",
      "dropout_17 (Dropout)         (None, 128)               0         \n",
      "_________________________________________________________________\n",
      "dense_15 (Dense)             (None, 10)                1290      \n",
      "=================================================================\n",
      "Total params: 1,199,882\n",
      "Trainable params: 1,199,882\n",
      "Non-trainable params: 0\n",
      "_________________________________________________________________\n"
     ]
    }
   ],
   "source": [
    "#printing summary of model\n",
    "model.summary()"
   ]
  },
  {
   "cell_type": "code",
   "execution_count": 277,
   "id": "f9b92860-1efb-44e1-8111-51b4a4f0e4c0",
   "metadata": {},
   "outputs": [
    {
     "name": "stdout",
     "output_type": "stream",
     "text": [
      "Epoch 1/25\n",
      "10/10 [==============================] - 1s 27ms/step - loss: 2.2461 - accuracy: 0.1625 - val_loss: 1.7540 - val_accuracy: 0.5875\n",
      "\n",
      "Epoch 00001: saving model to C:/Users/theycallmeBOT/Desktop/task/checkpoint\\cp.ckpt\n",
      "INFO:tensorflow:Assets written to: C:/Users/theycallmeBOT/Desktop/task/checkpoint\\cp.ckpt\\assets\n",
      "Epoch 2/25\n",
      "10/10 [==============================] - 0s 9ms/step - loss: 1.5530 - accuracy: 0.4719 - val_loss: 1.0057 - val_accuracy: 0.6875\n",
      "\n",
      "Epoch 00002: saving model to C:/Users/theycallmeBOT/Desktop/task/checkpoint\\cp.ckpt\n",
      "INFO:tensorflow:Assets written to: C:/Users/theycallmeBOT/Desktop/task/checkpoint\\cp.ckpt\\assets\n",
      "Epoch 3/25\n",
      "10/10 [==============================] - 0s 11ms/step - loss: 1.0816 - accuracy: 0.6375 - val_loss: 0.6009 - val_accuracy: 0.8125\n",
      "\n",
      "Epoch 00003: saving model to C:/Users/theycallmeBOT/Desktop/task/checkpoint\\cp.ckpt\n",
      "INFO:tensorflow:Assets written to: C:/Users/theycallmeBOT/Desktop/task/checkpoint\\cp.ckpt\\assets\n",
      "Epoch 4/25\n",
      "10/10 [==============================] - 0s 11ms/step - loss: 0.8529 - accuracy: 0.7031 - val_loss: 0.5473 - val_accuracy: 0.8000\n",
      "\n",
      "Epoch 00004: saving model to C:/Users/theycallmeBOT/Desktop/task/checkpoint\\cp.ckpt\n",
      "INFO:tensorflow:Assets written to: C:/Users/theycallmeBOT/Desktop/task/checkpoint\\cp.ckpt\\assets\n",
      "Epoch 5/25\n",
      "10/10 [==============================] - 0s 7ms/step - loss: 0.6242 - accuracy: 0.7875 - val_loss: 0.4227 - val_accuracy: 0.8750\n",
      "\n",
      "Epoch 00005: saving model to C:/Users/theycallmeBOT/Desktop/task/checkpoint\\cp.ckpt\n",
      "INFO:tensorflow:Assets written to: C:/Users/theycallmeBOT/Desktop/task/checkpoint\\cp.ckpt\\assets\n",
      "Epoch 6/25\n",
      "10/10 [==============================] - 0s 8ms/step - loss: 0.5387 - accuracy: 0.8125 - val_loss: 0.3343 - val_accuracy: 0.8750\n",
      "\n",
      "Epoch 00006: saving model to C:/Users/theycallmeBOT/Desktop/task/checkpoint\\cp.ckpt\n",
      "INFO:tensorflow:Assets written to: C:/Users/theycallmeBOT/Desktop/task/checkpoint\\cp.ckpt\\assets\n",
      "Epoch 7/25\n",
      "10/10 [==============================] - 0s 8ms/step - loss: 0.4287 - accuracy: 0.8562 - val_loss: 0.3617 - val_accuracy: 0.8500\n",
      "\n",
      "Epoch 00007: saving model to C:/Users/theycallmeBOT/Desktop/task/checkpoint\\cp.ckpt\n",
      "INFO:tensorflow:Assets written to: C:/Users/theycallmeBOT/Desktop/task/checkpoint\\cp.ckpt\\assets\n",
      "Epoch 8/25\n",
      "10/10 [==============================] - 0s 7ms/step - loss: 0.4536 - accuracy: 0.8375 - val_loss: 0.3228 - val_accuracy: 0.9000\n",
      "\n",
      "Epoch 00008: saving model to C:/Users/theycallmeBOT/Desktop/task/checkpoint\\cp.ckpt\n",
      "INFO:tensorflow:Assets written to: C:/Users/theycallmeBOT/Desktop/task/checkpoint\\cp.ckpt\\assets\n",
      "Epoch 9/25\n",
      "10/10 [==============================] - 0s 8ms/step - loss: 0.4120 - accuracy: 0.8438 - val_loss: 0.2686 - val_accuracy: 0.9125\n",
      "\n",
      "Epoch 00009: saving model to C:/Users/theycallmeBOT/Desktop/task/checkpoint\\cp.ckpt\n",
      "INFO:tensorflow:Assets written to: C:/Users/theycallmeBOT/Desktop/task/checkpoint\\cp.ckpt\\assets\n",
      "Epoch 10/25\n",
      "10/10 [==============================] - 0s 7ms/step - loss: 0.3797 - accuracy: 0.8781 - val_loss: 0.2413 - val_accuracy: 0.9125\n",
      "\n",
      "Epoch 00010: saving model to C:/Users/theycallmeBOT/Desktop/task/checkpoint\\cp.ckpt\n",
      "INFO:tensorflow:Assets written to: C:/Users/theycallmeBOT/Desktop/task/checkpoint\\cp.ckpt\\assets\n",
      "Epoch 11/25\n",
      "10/10 [==============================] - 0s 7ms/step - loss: 0.3904 - accuracy: 0.8750 - val_loss: 0.2845 - val_accuracy: 0.9000\n",
      "\n",
      "Epoch 00011: saving model to C:/Users/theycallmeBOT/Desktop/task/checkpoint\\cp.ckpt\n",
      "INFO:tensorflow:Assets written to: C:/Users/theycallmeBOT/Desktop/task/checkpoint\\cp.ckpt\\assets\n",
      "Epoch 12/25\n",
      "10/10 [==============================] - 0s 7ms/step - loss: 0.3046 - accuracy: 0.8875 - val_loss: 0.2602 - val_accuracy: 0.9250\n",
      "\n",
      "Epoch 00012: saving model to C:/Users/theycallmeBOT/Desktop/task/checkpoint\\cp.ckpt\n",
      "INFO:tensorflow:Assets written to: C:/Users/theycallmeBOT/Desktop/task/checkpoint\\cp.ckpt\\assets\n",
      "Epoch 13/25\n",
      "10/10 [==============================] - 0s 7ms/step - loss: 0.3095 - accuracy: 0.8875 - val_loss: 0.2115 - val_accuracy: 0.9250\n",
      "\n",
      "Epoch 00013: saving model to C:/Users/theycallmeBOT/Desktop/task/checkpoint\\cp.ckpt\n",
      "INFO:tensorflow:Assets written to: C:/Users/theycallmeBOT/Desktop/task/checkpoint\\cp.ckpt\\assets\n",
      "Epoch 14/25\n",
      "10/10 [==============================] - 0s 9ms/step - loss: 0.1988 - accuracy: 0.9250 - val_loss: 0.1816 - val_accuracy: 0.9375\n",
      "\n",
      "Epoch 00014: saving model to C:/Users/theycallmeBOT/Desktop/task/checkpoint\\cp.ckpt\n",
      "INFO:tensorflow:Assets written to: C:/Users/theycallmeBOT/Desktop/task/checkpoint\\cp.ckpt\\assets\n",
      "Epoch 15/25\n",
      "10/10 [==============================] - 0s 10ms/step - loss: 0.1897 - accuracy: 0.9375 - val_loss: 0.2223 - val_accuracy: 0.9125\n",
      "\n",
      "Epoch 00015: saving model to C:/Users/theycallmeBOT/Desktop/task/checkpoint\\cp.ckpt\n",
      "INFO:tensorflow:Assets written to: C:/Users/theycallmeBOT/Desktop/task/checkpoint\\cp.ckpt\\assets\n",
      "Epoch 16/25\n",
      "10/10 [==============================] - 0s 11ms/step - loss: 0.2409 - accuracy: 0.9187 - val_loss: 0.1463 - val_accuracy: 0.9500\n",
      "\n",
      "Epoch 00016: saving model to C:/Users/theycallmeBOT/Desktop/task/checkpoint\\cp.ckpt\n",
      "INFO:tensorflow:Assets written to: C:/Users/theycallmeBOT/Desktop/task/checkpoint\\cp.ckpt\\assets\n",
      "Epoch 17/25\n",
      "10/10 [==============================] - 0s 7ms/step - loss: 0.1821 - accuracy: 0.9312 - val_loss: 0.2284 - val_accuracy: 0.9625\n",
      "\n",
      "Epoch 00017: saving model to C:/Users/theycallmeBOT/Desktop/task/checkpoint\\cp.ckpt\n",
      "INFO:tensorflow:Assets written to: C:/Users/theycallmeBOT/Desktop/task/checkpoint\\cp.ckpt\\assets\n",
      "Epoch 18/25\n",
      "10/10 [==============================] - 0s 7ms/step - loss: 0.1928 - accuracy: 0.9125 - val_loss: 0.1482 - val_accuracy: 0.9500\n",
      "\n",
      "Epoch 00018: saving model to C:/Users/theycallmeBOT/Desktop/task/checkpoint\\cp.ckpt\n",
      "INFO:tensorflow:Assets written to: C:/Users/theycallmeBOT/Desktop/task/checkpoint\\cp.ckpt\\assets\n",
      "Epoch 19/25\n",
      "10/10 [==============================] - 0s 7ms/step - loss: 0.1949 - accuracy: 0.9344 - val_loss: 0.2100 - val_accuracy: 0.9625\n",
      "\n",
      "Epoch 00019: saving model to C:/Users/theycallmeBOT/Desktop/task/checkpoint\\cp.ckpt\n",
      "INFO:tensorflow:Assets written to: C:/Users/theycallmeBOT/Desktop/task/checkpoint\\cp.ckpt\\assets\n",
      "Epoch 20/25\n",
      "10/10 [==============================] - 0s 8ms/step - loss: 0.1740 - accuracy: 0.9281 - val_loss: 0.1946 - val_accuracy: 0.9375\n",
      "\n",
      "Epoch 00020: saving model to C:/Users/theycallmeBOT/Desktop/task/checkpoint\\cp.ckpt\n",
      "INFO:tensorflow:Assets written to: C:/Users/theycallmeBOT/Desktop/task/checkpoint\\cp.ckpt\\assets\n",
      "Epoch 21/25\n",
      "10/10 [==============================] - 0s 8ms/step - loss: 0.2079 - accuracy: 0.9250 - val_loss: 0.1812 - val_accuracy: 0.9500\n",
      "\n",
      "Epoch 00021: saving model to C:/Users/theycallmeBOT/Desktop/task/checkpoint\\cp.ckpt\n",
      "INFO:tensorflow:Assets written to: C:/Users/theycallmeBOT/Desktop/task/checkpoint\\cp.ckpt\\assets\n",
      "Epoch 22/25\n",
      "10/10 [==============================] - 0s 9ms/step - loss: 0.1769 - accuracy: 0.9375 - val_loss: 0.2075 - val_accuracy: 0.9250\n",
      "\n",
      "Epoch 00022: saving model to C:/Users/theycallmeBOT/Desktop/task/checkpoint\\cp.ckpt\n",
      "INFO:tensorflow:Assets written to: C:/Users/theycallmeBOT/Desktop/task/checkpoint\\cp.ckpt\\assets\n",
      "Epoch 23/25\n",
      "10/10 [==============================] - 0s 8ms/step - loss: 0.1646 - accuracy: 0.9187 - val_loss: 0.1422 - val_accuracy: 0.9500\n",
      "\n",
      "Epoch 00023: saving model to C:/Users/theycallmeBOT/Desktop/task/checkpoint\\cp.ckpt\n",
      "INFO:tensorflow:Assets written to: C:/Users/theycallmeBOT/Desktop/task/checkpoint\\cp.ckpt\\assets\n",
      "Epoch 24/25\n",
      "10/10 [==============================] - 0s 7ms/step - loss: 0.1222 - accuracy: 0.9594 - val_loss: 0.1538 - val_accuracy: 0.9375\n",
      "\n",
      "Epoch 00024: saving model to C:/Users/theycallmeBOT/Desktop/task/checkpoint\\cp.ckpt\n",
      "INFO:tensorflow:Assets written to: C:/Users/theycallmeBOT/Desktop/task/checkpoint\\cp.ckpt\\assets\n",
      "Epoch 25/25\n",
      "10/10 [==============================] - 0s 7ms/step - loss: 0.1199 - accuracy: 0.9406 - val_loss: 0.1494 - val_accuracy: 0.9750\n",
      "\n",
      "Epoch 00025: saving model to C:/Users/theycallmeBOT/Desktop/task/checkpoint\\cp.ckpt\n",
      "INFO:tensorflow:Assets written to: C:/Users/theycallmeBOT/Desktop/task/checkpoint\\cp.ckpt\\assets\n",
      "The model has successfully trained\n",
      "Saving the model as uas_digit_dataset_model.h5\n"
     ]
    }
   ],
   "source": [
    "#defining path to save checkpoints\n",
    "checkpoint_path = 'C:/Users/theycallmeBOT/Desktop/task/checkpoint/cp.ckpt'\n",
    "checkpoint_dir = os.path.dirname(checkpoint_path)\n",
    "\n",
    "#creating checkpoint callback\n",
    "cp_callback = tf.keras.callbacks.ModelCheckpoint(filepath=checkpoint_path,\n",
    "                                                 save_weights_only=False,\n",
    "                                                 verbose=1)\n",
    "#starting model training\n",
    "hist = model.fit(X_train, y_train, batch_size=32, epochs=25, verbose=1, validation_data=(X_test, y_test), callbacks=[cp_callback])\n",
    "print(\"The model has successfully trained\")\n",
    "\n",
    "#saving trained model\n",
    "model.save('uas_digit_dataset_model.h5')\n",
    "print(\"Saving the model as uas_digit_dataset_model.h5\")"
   ]
  },
  {
   "cell_type": "code",
   "execution_count": 279,
   "id": "d6f6a8ad-92af-4ce1-a059-defc61849735",
   "metadata": {},
   "outputs": [
    {
     "name": "stdout",
     "output_type": "stream",
     "text": [
      "Test Loss: 0.14936895668506622\n",
      "Test accuracy: 0.9750000238418579\n"
     ]
    }
   ],
   "source": [
    "#printing validation loss and accuracy\n",
    "score = model.evaluate(X_test, y_test, verbose=0)\n",
    "print('Test Loss:', score[0])\n",
    "print('Test accuracy:', score[1])"
   ]
  },
  {
   "cell_type": "code",
   "execution_count": 280,
   "id": "5ab1e5b8-08f1-4e5f-8ded-8837ce3ecc05",
   "metadata": {},
   "outputs": [],
   "source": [
    "def predict_digit(img):\n",
    "    #resize image to 28x28 pixels\n",
    "    img = img.resize((28,28))\n",
    "    #convert rgb to grayscale\n",
    "    img = img.convert('L')\n",
    "    #inverting image\n",
    "    #img = PIL.ImageOps.invert(img)\n",
    "    img = np.array(img)\n",
    "    #reshaping to support our model input and normalizing\n",
    "    img = img.reshape(1,28,28,1)\n",
    "    img = img/255.0\n",
    "    #predicting the class\n",
    "    res = model.predict([img])[0]\n",
    "    print('\\nPredicted Digit:  ', np.argmax(res) , ' \\nPrediction Accuracy:', round(100*max(res), 4), '%')\n",
    "    #return np.argmax(res), 100*max(res)"
   ]
  },
  {
   "cell_type": "code",
   "execution_count": 281,
   "id": "94ab3c7b-39bb-4a03-bfcc-54e7cf5b64f4",
   "metadata": {},
   "outputs": [
    {
     "name": "stdout",
     "output_type": "stream",
     "text": [
      "\n",
      "Predicted Digit:   4  \n",
      "Prediction Accuracy: 99.9924 %\n"
     ]
    },
    {
     "data": {
      "image/png": "[encoded data removed]",
      "text/plain": [
       "<Figure size 432x288 with 1 Axes>"
      ]
     },
     "metadata": {
      "needs_background": "light"
     },
     "output_type": "display_data"
    }
   ],
   "source": [
    "img_path1 = 'C:/Users/theycallmeBOT/Desktop/task/my_handwritten_digits/four2-01.png'\n",
    "img_path2 = 'C:/Users/theycallmeBOT/Desktop/task/data/9/9_32.png'\n",
    "test_image = Image.open(img_path1)\n",
    "#test_image.show()\n",
    "plt.imshow(test_image, cmap='gray')\n",
    "predict_digit(test_image)"
   ]
  },
  {
   "cell_type": "code",
   "execution_count": null,
   "id": "0e0b1225-24f1-498a-97ff-181591b826da",
   "metadata": {},
   "outputs": [],
   "source": []
  },
  {
   "cell_type": "code",
   "execution_count": null,
   "id": "5fe50d5a-3563-4a6b-8082-18cf6ef30004",
   "metadata": {},
   "outputs": [],
   "source": []
  }
 ],
 "metadata": {
  "kernelspec": {
   "display_name": "Python 3 (ipykernel)",
   "language": "python",
   "name": "python3"
  },
  "language_info": {
   "codemirror_mode": {
    "name": "ipython",
    "version": 3
   },
   "file_extension": ".py",
   "mimetype": "text/x-python",
   "name": "python",
   "nbconvert_exporter": "python",
   "pygments_lexer": "ipython3",
   "version": "3.9.6"
  }
 },
 "nbformat": 4,
 "nbformat_minor": 5
}
