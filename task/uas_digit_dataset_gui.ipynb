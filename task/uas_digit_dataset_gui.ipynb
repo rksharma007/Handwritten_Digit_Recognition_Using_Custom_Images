{
 "cells": [
  {
   "cell_type": "code",
   "execution_count": 159,
   "id": "86182b97-2f40-4691-ac0b-fad3dad14312",
   "metadata": {},
   "outputs": [],
   "source": [
    "#All the imports\n",
    "import os\n",
    "import numpy as np\n",
    "import tensorflow as tf\n",
    "from PIL import Image, ImageOps\n",
    "import matplotlib.pyplot as plt\n",
    "from keras.utils import np_utils\n",
    "from sklearn.utils import shuffle\n",
    "from keras.models import Sequential\n",
    "from sklearn.model_selection import train_test_split\n",
    "from tensorflow.keras.optimizers import SGD\n",
    "from keras.layers.core import Activation, Dense, Dropout, Flatten\n",
    "from keras.layers.convolutional import Convolution2D, MaxPooling2D\n",
    "from keras.layers import Conv2D, Dense, Dropout, Flatten, MaxPooling2D\n",
    "from keras.models import load_model"
   ]
  },
  {
   "cell_type": "code",
   "execution_count": 160,
   "id": "84995837-c424-48d7-a689-86497604b1f5",
   "metadata": {},
   "outputs": [],
   "source": [
    "#defining shape and no. of classes\n",
    "input_shape = (28,28,1)\n",
    "num_classes = 10\n",
    "\n",
    "#defining model\n",
    "model = Sequential()\n",
    "model.add(Conv2D(32, kernel_size=(3, 3),activation='relu', kernel_initializer='he_uniform', input_shape=input_shape))\n",
    "model.add(Conv2D(64, (3, 3), activation='relu'))\n",
    "model.add(MaxPooling2D(pool_size=(2, 2)))\n",
    "model.add(Dropout(0.5))\n",
    "model.add(Flatten())\n",
    "model.add(Dense(128, activation='relu', kernel_initializer='he_uniform'))\n",
    "model.add(Dropout(0.5))\n",
    "model.add(Dense(num_classes, activation='softmax'))"
   ]
  },
  {
   "cell_type": "code",
   "execution_count": 161,
   "id": "9d4f7a42-e890-4359-8dac-7df8b61b56d7",
   "metadata": {},
   "outputs": [
    {
     "name": "stdout",
     "output_type": "stream",
     "text": [
      "Model: \"sequential_7\"\n",
      "_________________________________________________________________\n",
      "Layer (type)                 Output Shape              Param #   \n",
      "=================================================================\n",
      "conv2d_14 (Conv2D)           (None, 26, 26, 32)        320       \n",
      "_________________________________________________________________\n",
      "conv2d_15 (Conv2D)           (None, 24, 24, 64)        18496     \n",
      "_________________________________________________________________\n",
      "max_pooling2d_7 (MaxPooling2 (None, 12, 12, 64)        0         \n",
      "_________________________________________________________________\n",
      "dropout_14 (Dropout)         (None, 12, 12, 64)        0         \n",
      "_________________________________________________________________\n",
      "flatten_7 (Flatten)          (None, 9216)              0         \n",
      "_________________________________________________________________\n",
      "dense_12 (Dense)             (None, 128)               1179776   \n",
      "_________________________________________________________________\n",
      "dropout_15 (Dropout)         (None, 128)               0         \n",
      "_________________________________________________________________\n",
      "dense_13 (Dense)             (None, 10)                1290      \n",
      "=================================================================\n",
      "Total params: 1,199,882\n",
      "Trainable params: 1,199,882\n",
      "Non-trainable params: 0\n",
      "_________________________________________________________________\n"
     ]
    }
   ],
   "source": [
    "#importing model\n",
    "model = tf.keras.models.load_model('uas_digit_dataset_model.h5')\n",
    "#printing model summary\n",
    "model.summary()"
   ]
  },
  {
   "cell_type": "code",
   "execution_count": 162,
   "id": "d84c9146-4b2a-44e2-8562-336feaac1ab1",
   "metadata": {},
   "outputs": [],
   "source": [
    "#load image from directory process it and then show the digit predicted\n",
    "def predict_digit(img):\n",
    "    #resize image to 28x28 pixels\n",
    "    img = img.resize((28,28))\n",
    "    #convert rgb to grayscale\n",
    "    img = img.convert('L')\n",
    "    #inverting image\n",
    "    #img = PIL.ImageOps.invert(img)\n",
    "    img = np.array(img)\n",
    "    #reshaping to support our model input and normalizing\n",
    "    img = img.reshape(1,28,28,1)\n",
    "    img = img/255.0\n",
    "    #predicting the class\n",
    "    res = model.predict([img])[0]\n",
    "    print('\\nPredicted Digit:  ', np.argmax(res) , ' \\nPrediction Accuracy:', round(100*max(res), 4), '%')\n",
    "    #return np.argmax(res), 100*max(res)"
   ]
  },
  {
   "cell_type": "code",
   "execution_count": 163,
   "id": "92b7f38d-45f8-468d-a66d-6f87c6e2a3ca",
   "metadata": {},
   "outputs": [
    {
     "name": "stdout",
     "output_type": "stream",
     "text": [
      "\n",
      "Predicted Digit:   6  \n",
      "Prediction Accuracy: 89.2541 %\n"
     ]
    },
    {
     "data": {
      "image/png": "[encoded data removed]",
      "text/plain": [
       "<Figure size 432x288 with 1 Axes>"
      ]
     },
     "metadata": {
      "needs_background": "light"
     },
     "output_type": "display_data"
    }
   ],
   "source": [
    "#path of image from directory\n",
    "\n",
    "img_path1 = 'C:/Users/theycallmeBOT/Desktop/task/my_handwritten_digits/six2-01.png'\n",
    "img_path2 = 'C:/Users/theycallmeBOT/Desktop/task/data/3/3_40.png'\n",
    "#img_path3 = 'C:/Users/theycallmeBOT/Desktop/task/image.png'\n",
    "test_image = Image.open(img_path1)\n",
    "#test_image.show()\n",
    "plt.imshow(test_image, cmap='gray')\n",
    "predict_digit(test_image)"
   ]
  },
  {
   "cell_type": "code",
   "execution_count": null,
   "id": "bbee933d-273f-400f-bc44-1d0f0d950873",
   "metadata": {},
   "outputs": [],
   "source": []
  },
  {
   "cell_type": "code",
   "execution_count": null,
   "id": "0c97b6aa-6c48-43f7-b890-605ea973a466",
   "metadata": {},
   "outputs": [],
   "source": []
  }
 ],
 "metadata": {
  "kernelspec": {
   "display_name": "Python 3 (ipykernel)",
   "language": "python",
   "name": "python3"
  },
  "language_info": {
   "codemirror_mode": {
    "name": "ipython",
    "version": 3
   },
   "file_extension": ".py",
   "mimetype": "text/x-python",
   "name": "python",
   "nbconvert_exporter": "python",
   "pygments_lexer": "ipython3",
   "version": "3.9.6"
  }
 },
 "nbformat": 4,
 "nbformat_minor": 5
}
